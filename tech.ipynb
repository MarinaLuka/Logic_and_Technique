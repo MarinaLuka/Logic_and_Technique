{
 "cells": [
  {
   "cell_type": "markdown",
   "id": "f1158247",
   "metadata": {},
   "source": [
    "# Техническое задание\n",
    "\n",
    "### В файле «data.xlsx» представлены данные по поступлению денежных средств от\n",
    "### клиентов компании N за покупку ее услуг.\n",
    "\n",
    "#### client_id - ID клиента;\n",
    "#### sum – сумма денежных средств;\n",
    "#### status – статус оплаты;\n",
    "#### sale – менеджер, заключивший сделку;\n",
    "#### new/current – статус сделки;\n",
    "#### document – наличие оригинала подписанного договора с клиентом;\n",
    "#### receiving_date – дата получения оригинала договора."
   ]
  },
  {
   "cell_type": "code",
   "execution_count": 1,
   "id": "a83f86eb",
   "metadata": {},
   "outputs": [],
   "source": [
    "import pandas as pd\n",
    "import seaborn as sns\n",
    "import matplotlib.pyplot as plt"
   ]
  },
  {
   "cell_type": "markdown",
   "id": "917f62fe",
   "metadata": {},
   "source": [
    "##### Загружаю данные из файла"
   ]
  },
  {
   "cell_type": "code",
   "execution_count": 2,
   "id": "2688bae8",
   "metadata": {},
   "outputs": [],
   "source": [
    "data = pd.read_excel('C:/Users/Марина/Desktop/data.xlsx')"
   ]
  },
  {
   "cell_type": "markdown",
   "id": "7d207425",
   "metadata": {},
   "source": [
    "##### Проведу предобработку данных"
   ]
  },
  {
   "cell_type": "code",
   "execution_count": 3,
   "id": "718f745c",
   "metadata": {},
   "outputs": [
    {
     "data": {
      "text/plain": [
       "(730, 8)"
      ]
     },
     "execution_count": 3,
     "metadata": {},
     "output_type": "execute_result"
    }
   ],
   "source": [
    "data.shape"
   ]
  },
  {
   "cell_type": "code",
   "execution_count": 4,
   "id": "1a6e009e",
   "metadata": {},
   "outputs": [
    {
     "data": {
      "text/plain": [
       "client_id         212\n",
       "sum               504\n",
       "status             11\n",
       "sale               12\n",
       "new/current         3\n",
       "Unnamed: 5          0\n",
       "document            3\n",
       "receiving_date    111\n",
       "dtype: int64"
      ]
     },
     "execution_count": 4,
     "metadata": {},
     "output_type": "execute_result"
    }
   ],
   "source": [
    "data.nunique()"
   ]
  },
  {
   "cell_type": "code",
   "execution_count": 5,
   "id": "dc46bb8a",
   "metadata": {},
   "outputs": [
    {
     "data": {
      "text/plain": [
       "client_id           6\n",
       "sum                 6\n",
       "status              0\n",
       "sale                6\n",
       "new/current         6\n",
       "Unnamed: 5        730\n",
       "document           21\n",
       "receiving_date    123\n",
       "dtype: int64"
      ]
     },
     "execution_count": 5,
     "metadata": {},
     "output_type": "execute_result"
    }
   ],
   "source": [
    "data.isnull().sum()"
   ]
  },
  {
   "cell_type": "markdown",
   "id": "2af488f0",
   "metadata": {},
   "source": [
    "##### Заменю значения NaN на нули"
   ]
  },
  {
   "cell_type": "code",
   "execution_count": 6,
   "id": "795810f2",
   "metadata": {},
   "outputs": [],
   "source": [
    "data[['client_id', 'sum', 'receiving_date']] = data[['client_id', 'sum', 'receiving_date']].fillna(0)"
   ]
  },
  {
   "cell_type": "code",
   "execution_count": 7,
   "id": "0018af9b",
   "metadata": {},
   "outputs": [
    {
     "name": "stdout",
     "output_type": "stream",
     "text": [
      "<class 'pandas.core.frame.DataFrame'>\n",
      "RangeIndex: 730 entries, 0 to 729\n",
      "Data columns (total 8 columns):\n",
      " #   Column          Non-Null Count  Dtype  \n",
      "---  ------          --------------  -----  \n",
      " 0   client_id       730 non-null    float64\n",
      " 1   sum             730 non-null    float64\n",
      " 2   status          730 non-null    object \n",
      " 3   sale            724 non-null    object \n",
      " 4   new/current     724 non-null    object \n",
      " 5   Unnamed: 5      0 non-null      float64\n",
      " 6   document        709 non-null    object \n",
      " 7   receiving_date  730 non-null    object \n",
      "dtypes: float64(3), object(5)\n",
      "memory usage: 45.8+ KB\n"
     ]
    }
   ],
   "source": [
    "data.info()"
   ]
  },
  {
   "cell_type": "markdown",
   "id": "072592f0",
   "metadata": {},
   "source": [
    "##### Преобразую столбец 'receiving_date' в тип datetime"
   ]
  },
  {
   "cell_type": "code",
   "execution_count": 8,
   "id": "44657dac",
   "metadata": {},
   "outputs": [],
   "source": [
    "data['receiving_date'] = pd.to_datetime(data['receiving_date'], errors='coerce')"
   ]
  },
  {
   "cell_type": "markdown",
   "id": "4b78b44d",
   "metadata": {},
   "source": [
    "## Вопросы:\n",
    "\n",
    "### 1) Вычислите общую выручку за июль 2021 по тем сделкам, приход денежных \n",
    "### средств которых не просрочен."
   ]
  },
  {
   "cell_type": "markdown",
   "id": "285175e6",
   "metadata": {},
   "source": [
    "##### Отфильтрую данные для сделок, приход денежных средств которых не просрочен и соответствует июлю 2021 года"
   ]
  },
  {
   "cell_type": "code",
   "execution_count": 9,
   "id": "65034209",
   "metadata": {},
   "outputs": [],
   "source": [
    "July_data = data[(data['status'] == 'ОПЛАЧЕНО') & (data['receiving_date'].dt.month == 7) & (data['receiving_date'].dt.year == 2021)]"
   ]
  },
  {
   "cell_type": "markdown",
   "id": "8962884f",
   "metadata": {},
   "source": [
    "##### Вычисляю общую выручку для отфильтрованных данных"
   ]
  },
  {
   "cell_type": "code",
   "execution_count": 10,
   "id": "dfdc43d5",
   "metadata": {},
   "outputs": [],
   "source": [
    "total_revenue = July_data['sum'].sum()\n",
    "total_revenue_rounded = round(total_revenue, 2)"
   ]
  },
  {
   "cell_type": "code",
   "execution_count": 11,
   "id": "ac2766f2",
   "metadata": {},
   "outputs": [
    {
     "name": "stdout",
     "output_type": "stream",
     "text": [
      "Общая выручка за июль 2021 года по сделкам без просрочки: 757830.74\n"
     ]
    }
   ],
   "source": [
    "print('Общая выручка за июль 2021 года по сделкам без просрочки:', total_revenue_rounded)"
   ]
  },
  {
   "cell_type": "markdown",
   "id": "f27735e9",
   "metadata": {},
   "source": [
    "### 2) Как изменялась выручка компании за рассматриваемый период?\n",
    "### Проиллюстрируйте графиком."
   ]
  },
  {
   "cell_type": "markdown",
   "id": "3cfa0fd9",
   "metadata": {},
   "source": [
    "##### Группирую данные по дате и вычисляю общую выручку для каждой даты"
   ]
  },
  {
   "cell_type": "code",
   "execution_count": 12,
   "id": "9c63cc5b",
   "metadata": {},
   "outputs": [],
   "source": [
    "revenue_by_date = July_data.groupby('receiving_date')['sum'].sum().reset_index()"
   ]
  },
  {
   "cell_type": "markdown",
   "id": "2dad442c",
   "metadata": {},
   "source": [
    "##### Создам график с помощью Seaborn"
   ]
  },
  {
   "cell_type": "code",
   "execution_count": 15,
   "id": "2222bb8a",
   "metadata": {},
   "outputs": [
    {
     "data": {
      "image/png": "[encoded data removed]",
      "text/plain": [
       "<Figure size 1200x600 with 1 Axes>"
      ]
     },
     "metadata": {},
     "output_type": "display_data"
    }
   ],
   "source": [
    "plt.figure(figsize=(12, 6))\n",
    "sns.lineplot(data=July_data, x='receiving_date', y='sum')\n",
    "plt.title('Изменение выручки компании за июль 2021 года')\n",
    "plt.xlabel('Дата')\n",
    "plt.ylabel('Выручка')\n",
    "plt.grid(True)\n",
    "plt.xticks(rotation=45)\n",
    "plt.tight_layout()\n",
    "plt.show()"
   ]
  },
  {
   "cell_type": "markdown",
   "id": "539fa32f",
   "metadata": {},
   "source": [
    "### 3) Кто из менеджеров привлек для компании больше всего денежных средств в сентябре 2021?"
   ]
  },
  {
   "cell_type": "markdown",
   "id": "e30dd675",
   "metadata": {},
   "source": [
    "##### Фильтрую данные для сделок, приход денежных средств которых не просрочен и соответствует сентябрю 2021 года"
   ]
  },
  {
   "cell_type": "code",
   "execution_count": 16,
   "id": "361ea85e",
   "metadata": {},
   "outputs": [],
   "source": [
    "september_data = data[(data['status'] == 'ОПЛАЧЕНО') & (data['receiving_date'].dt.month == 9) & (data['receiving_date'].dt.year == 2021)]"
   ]
  },
  {
   "cell_type": "markdown",
   "id": "c8d969b8",
   "metadata": {},
   "source": [
    "##### Группирую данные по менеджерам и определяю суммы сделок"
   ]
  },
  {
   "cell_type": "code",
   "execution_count": 17,
   "id": "121e7fb5",
   "metadata": {},
   "outputs": [],
   "source": [
    "manager_revenue = september_data.groupby('sale')['sum'].sum().reset_index()"
   ]
  },
  {
   "cell_type": "markdown",
   "id": "379089eb",
   "metadata": {},
   "source": [
    "##### Нахожу менеджера с наибольшей выручкой"
   ]
  },
  {
   "cell_type": "code",
   "execution_count": 18,
   "id": "9c89f20f",
   "metadata": {},
   "outputs": [],
   "source": [
    "top_manager = manager_revenue.loc[manager_revenue['sum'].idxmax()]"
   ]
  },
  {
   "cell_type": "code",
   "execution_count": 19,
   "id": "408c3f1a",
   "metadata": {},
   "outputs": [
    {
     "name": "stdout",
     "output_type": "stream",
     "text": [
      "Менеджер, привлекший наибольшую выручку в сентябре 2021 года: Петрова\n",
      "Сумма выручки: 210386.42\n"
     ]
    }
   ],
   "source": [
    "print(\"Менеджер, привлекший наибольшую выручку в сентябре 2021 года:\", top_manager['sale'])\n",
    "print(\"Сумма выручки:\", top_manager['sum'])"
   ]
  },
  {
   "cell_type": "markdown",
   "id": "b4899134",
   "metadata": {},
   "source": [
    "### 4) Какой тип сделок (новая/текущая) был преобладающим в октябре 2021?"
   ]
  },
  {
   "cell_type": "markdown",
   "id": "2c5ee8a4",
   "metadata": {},
   "source": [
    "##### Фильтрую данные для сделок, соответствующие октябрю 2021 года"
   ]
  },
  {
   "cell_type": "code",
   "execution_count": 21,
   "id": "9e6c31fe",
   "metadata": {},
   "outputs": [],
   "source": [
    "october_data = data[(data['receiving_date'].dt.month == 10) & (data['receiving_date'].dt.year == 2021)]"
   ]
  },
  {
   "cell_type": "markdown",
   "id": "b0ecccc2",
   "metadata": {},
   "source": [
    "##### Определяю преобладающий тип сделок"
   ]
  },
  {
   "cell_type": "code",
   "execution_count": 22,
   "id": "a8490da3",
   "metadata": {},
   "outputs": [],
   "source": [
    "prevailing_type = october_data['new/current'].mode().values[0]"
   ]
  },
  {
   "cell_type": "code",
   "execution_count": 23,
   "id": "233f0161",
   "metadata": {},
   "outputs": [
    {
     "name": "stdout",
     "output_type": "stream",
     "text": [
      "Преобладающий тип сделок в октябре 2021 года: текущая\n"
     ]
    }
   ],
   "source": [
    "print(\"Преобладающий тип сделок в октябре 2021 года:\", prevailing_type)"
   ]
  },
  {
   "cell_type": "markdown",
   "id": "5614e2c0",
   "metadata": {},
   "source": [
    "### 5) Сколько оригиналов договора по майским сделкам было получено в июне 2021?"
   ]
  },
  {
   "cell_type": "markdown",
   "id": "e428394c",
   "metadata": {},
   "source": [
    "##### Фильтрую данные для сделок, соответствующие майским сделкам и июню 2021 года"
   ]
  },
  {
   "cell_type": "code",
   "execution_count": 24,
   "id": "301a218b",
   "metadata": {},
   "outputs": [],
   "source": [
    "may_data = data[(data['receiving_date'].dt.month == 5) & (data['receiving_date'].dt.year == 2021)]\n",
    "june_data = data[(data['receiving_date'].dt.month == 6) & (data['receiving_date'].dt.year == 2021)]"
   ]
  },
  {
   "cell_type": "markdown",
   "id": "0464bb81",
   "metadata": {},
   "source": [
    "##### Отфильтрую по столбцу 'document' для оригиналов"
   ]
  },
  {
   "cell_type": "code",
   "execution_count": 25,
   "id": "71f7ba1a",
   "metadata": {},
   "outputs": [],
   "source": [
    "originals_in_june = june_data[june_data['document'] == 'оригинал']['document'].count()"
   ]
  },
  {
   "cell_type": "code",
   "execution_count": 26,
   "id": "584629dd",
   "metadata": {},
   "outputs": [
    {
     "name": "stdout",
     "output_type": "stream",
     "text": [
      "Количество оригиналов договора, полученных в июне 2021 года по майским сделкам: 76\n"
     ]
    }
   ],
   "source": [
    "print(\"Количество оригиналов договора, полученных в июне 2021 года по майским сделкам:\", originals_in_june)"
   ]
  },
  {
   "cell_type": "markdown",
   "id": "a372eed8",
   "metadata": {},
   "source": [
    "# Задание"
   ]
  },
  {
   "cell_type": "markdown",
   "id": "7a23b52f",
   "metadata": {},
   "source": [
    "#### За каждую заключенную сделку менеджер получает бонус, который рассчитывается\n",
    "#### следующим образом.\n",
    "#### 1) За новые сделки менеджер получает 7 % от суммы, при условии, что статус\n",
    "#### оплаты «ОПЛАЧЕНО», а также имеется оригинал подписанного договора с\n",
    "#### клиентом (в рассматриваемом месяце).\n",
    "#### 2) За текущие сделки менеджер получает 5 % от суммы, если она больше 10 тыс.,\n",
    "#### и 3 % от суммы, если меньше. При этом статус оплаты может быть любым,\n",
    "#### кроме «ПРОСРОЧЕНО», а также необходимо наличие оригинала подписанного\n",
    "#### договора с клиентом (в рассматриваемом месяце).\n",
    "#### Бонусы по сделкам, оригиналы для которых приходят позже рассматриваемого\n",
    "#### месяца, считаются остатком на следующий период, который выплачивается по мере\n",
    "#### прихода оригиналов. Вычислите остаток каждого из менеджеров на 01.07.2021."
   ]
  },
  {
   "cell_type": "markdown",
   "id": "f265412c",
   "metadata": {},
   "source": [
    "##### Создам столбец 'bonus', который будет содержать бонус для каждой сделки"
   ]
  },
  {
   "cell_type": "code",
   "execution_count": 27,
   "id": "a3f2a9f1",
   "metadata": {},
   "outputs": [],
   "source": [
    "data['bonus'] = 0"
   ]
  },
  {
   "cell_type": "markdown",
   "id": "f01ac99d",
   "metadata": {},
   "source": [
    "##### Рассчитаю бонусы для каждой сделки"
   ]
  },
  {
   "cell_type": "code",
   "execution_count": 28,
   "id": "bc7109ec",
   "metadata": {},
   "outputs": [],
   "source": [
    "for index, row in data.iterrows():\n",
    "    if row['receiving_date'].month == 6 and row['receiving_date'].year == 2021:\n",
    "        if row['new/current'] == 'новая' and row['status'] == 'ОПЛАЧЕНО' and row['document'] == 'оригинал':\n",
    "            bonus = 0.07 * row['sum']\n",
    "        elif row['new/current'] == 'текущая' and row['document'] == 'оригинал':\n",
    "            if row['sum'] > 10000:\n",
    "                bonus = 0.05 * row['sum']\n",
    "            else:\n",
    "                bonus = 0.03 * row['sum']\n",
    "        else:\n",
    "            bonus = 0\n",
    "        data.at[index, 'bonus'] = bonus"
   ]
  },
  {
   "cell_type": "markdown",
   "id": "3ad3c312",
   "metadata": {},
   "source": [
    "##### Сгруппирую данные по менеджерам и посчитаю сумму бонусов для каждого менеджера"
   ]
  },
  {
   "cell_type": "code",
   "execution_count": 29,
   "id": "3bcf7028",
   "metadata": {},
   "outputs": [],
   "source": [
    "manager_bonus = data.groupby('sale')['bonus'].sum().reset_index()"
   ]
  },
  {
   "cell_type": "code",
   "execution_count": 135,
   "id": "27034fd6",
   "metadata": {},
   "outputs": [
    {
     "name": "stdout",
     "output_type": "stream",
     "text": [
      "          sale      bonus\n",
      "0            -     0.0000\n",
      "1      Андреев  2962.1717\n",
      "2     Васильев   339.2310\n",
      "3       Иванов  2503.8390\n",
      "4    Кузнецова  2604.6716\n",
      "5     Михайлов     0.0000\n",
      "6      Петрова  7028.8020\n",
      "7        Попов     0.0000\n",
      "8    Селиванов   353.3220\n",
      "9      Смирнов  4078.7240\n",
      "10     Соколов     0.0000\n",
      "11  Филимонова   306.0720\n"
     ]
    }
   ],
   "source": [
    "print(manager_bonus)"
   ]
  },
  {
   "cell_type": "code",
   "execution_count": null,
   "id": "7a8c466f",
   "metadata": {},
   "outputs": [],
   "source": []
  }
 ],
 "metadata": {
  "kernelspec": {
   "display_name": "Python 3 (ipykernel)",
   "language": "python",
   "name": "python3"
  },
  "language_info": {
   "codemirror_mode": {
    "name": "ipython",
    "version": 3
   },
   "file_extension": ".py",
   "mimetype": "text/x-python",
   "name": "python",
   "nbconvert_exporter": "python",
   "pygments_lexer": "ipython3",
   "version": "3.11.4"
  }
 },
 "nbformat": 4,
 "nbformat_minor": 5
}
